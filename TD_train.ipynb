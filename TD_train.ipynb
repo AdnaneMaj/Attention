{
 "cells": [
  {
   "cell_type": "markdown",
   "metadata": {},
   "source": [
    "# Dataset\n",
    "\n",
    "We will simply try to generate *tiny shakespeare* like text using a **Transofrmer Decoder**"
   ]
  },
  {
   "cell_type": "code",
   "execution_count": 1,
   "metadata": {},
   "outputs": [
    {
     "name": "stderr",
     "output_type": "stream",
     "text": [
      "/home/hp/anaconda3/envs/GPT/lib/python3.12/site-packages/tqdm/auto.py:21: TqdmWarning: IProgress not found. Please update jupyter and ipywidgets. See https://ipywidgets.readthedocs.io/en/stable/user_install.html\n",
      "  from .autonotebook import tqdm as notebook_tqdm\n"
     ]
    }
   ],
   "source": [
    "from torch.utils.data import Dataset,DataLoader\n",
    "from transformers import GPT2Tokenizer"
   ]
  },
  {
   "cell_type": "code",
   "execution_count": 2,
   "metadata": {},
   "outputs": [],
   "source": [
    "tokenizer = GPT2Tokenizer.from_pretrained(\"gpt2\") # Use GPT-2 tokenizer (or another tokenizer)\n",
    "tokenizer.pad_token = tokenizer.eos_token # Add a padding token (if required for batching)"
   ]
  },
  {
   "cell_type": "code",
   "execution_count": null,
   "metadata": {},
   "outputs": [],
   "source": [
    "# __ CONFIG ___\n",
    "\n",
    "base_model_config = {\n",
    "    'd_model' : 256,\n",
    "    'd_k' : 32,\n",
    "    'd_v' : 32,\n",
    "    'd_ff' : 1024,\n",
    "    'n_layers' : 4,\n",
    "    'n_head' : 8,\n",
    "    'max_len' : 128,\n",
    "    'vocab_size' : 10653, #Only the one showing up in shakespear dataset\n",
    "    'pad_idx':tokenizer.pad_token_id,\n",
    "    'dropout' : 0.1,\n",
    "}\n",
    "\n",
    "mini_model_config = {\n",
    "    'd_model' : 64,\n",
    "    'd_k' : 8,\n",
    "    'd_v' : 8,\n",
    "    'd_ff' : 256,\n",
    "    'n_layers' : 2,\n",
    "    'n_head' : 2,\n",
    "    'max_len' : 32,\n",
    "    'vocab_size' : 59514,\n",
    "    'pad_idx':tokenizer.pad_token_id,\n",
    "    'dropout' : 0.1,\n",
    "}\n",
    "\n",
    "model_config = mini_model_config\n",
    "\n",
    "train_config = {\n",
    "    'learning_rate':1e-9,\n",
    "    'weight_decay':1e-5,\n",
    "    'checkpoint_dir':\".\",\n",
    "    'num_epochs': 50,\n",
    "    'warmup_steps': 1000,\n",
    "    'batch_size':64\n",
    "}"
   ]
  },
  {
   "cell_type": "code",
   "execution_count": 4,
   "metadata": {},
   "outputs": [],
   "source": [
    "import torch\n",
    "from torch.utils.data import Dataset, DataLoader\n",
    "from transformers import GPT2Tokenizer\n",
    "\n",
    "#Custom Dataset\n",
    "class TextDataset(Dataset):\n",
    "    def __init__(self, text, tokenizer, seq_length):\n",
    "        \"\"\"\n",
    "        Args:\n",
    "            text (str): Raw text data.\n",
    "            tokenizer: Tokenizer to convert text to tokens.\n",
    "            seq_length (int): Length of each sequence.\n",
    "        \"\"\"\n",
    "        self.tokenizer = tokenizer\n",
    "        self.seq_length = seq_length\n",
    "        \n",
    "        # Tokenize the text and convert to input IDs\n",
    "        self.tokens = tokenizer.encode(text,return_tensors=\"pt\",add_special_tokens=False)[0]\n",
    "        \n",
    "        # Chunk tokens into sequences of fixed length\n",
    "        self.num_sequences = self.tokens.size(-1) // seq_length\n",
    "        self.tokens = self.tokens[: self.num_sequences * seq_length]  # Trim extra tokens\n",
    "\n",
    "    def __len__(self):\n",
    "        # Number of sequences\n",
    "        return self.num_sequences\n",
    "\n",
    "    def __getitem__(self, idx):\n",
    "        # Return a sequence of fixed length\n",
    "        start_idx = idx * self.seq_length\n",
    "        end_idx = start_idx + self.seq_length\n",
    "        sequence = torch.cat((torch.tensor((self.tokenizer.bos_token_id,)),self.tokens[start_idx:end_idx]),dim=-1)\n",
    "        sequence = torch.tensor(sequence, dtype=torch.long)\n",
    "        return sequence[:-1],sequence[1:]"
   ]
  },
  {
   "cell_type": "code",
   "execution_count": 5,
   "metadata": {},
   "outputs": [],
   "source": [
    "# Path to the .txt file\n",
    "file_path = \"tiny_shakespeare.txt\"\n",
    "\n",
    "# Open the file and read its contents as a single string\n",
    "with open(file_path, \"r\", encoding=\"utf-8\") as file:\n",
    "    text = file.read()"
   ]
  },
  {
   "cell_type": "code",
   "execution_count": null,
   "metadata": {},
   "outputs": [
    {
     "name": "stderr",
     "output_type": "stream",
     "text": [
      "Token indices sequence length is longer than the specified maximum sequence length for this model (34220 > 1024). Running this sequence through the model will result in indexing errors\n"
     ]
    }
   ],
   "source": [
    "#Train/Val split\n",
    "text_lengh = len(text)\n",
    "sep = int(text_lengh*train_config['train_per'])\n",
    "train_text = text[:sep]\n",
    "val_text = text[sep:]\n",
    "\n",
    "#Create a dataset\n",
    "train_dataset = TextDataset(train_text, tokenizer, model_config['max_len'])\n",
    "val_dataset = TextDataset(val_text, tokenizer, model_config['max_len'])\n",
    "\n",
    "# Create the DataLoader\n",
    "train_loader = DataLoader(train_dataset, batch_size=train_config['batch_size'], shuffle=True,drop_last=True)\n",
    "val_loader = DataLoader(train_dataset, batch_size=train_config['batch_size'], shuffle=True,drop_last=True)"
   ]
  },
  {
   "cell_type": "markdown",
   "metadata": {},
   "source": [
    "## Model"
   ]
  },
  {
   "cell_type": "code",
   "execution_count": 7,
   "metadata": {},
   "outputs": [],
   "source": [
    "from transformer.model import TransformerDecoder"
   ]
  },
  {
   "cell_type": "code",
   "execution_count": 8,
   "metadata": {},
   "outputs": [],
   "source": [
    "model = TransformerDecoder(**model_config)"
   ]
  },
  {
   "cell_type": "markdown",
   "metadata": {},
   "source": [
    "## Trainer"
   ]
  },
  {
   "cell_type": "code",
   "execution_count": null,
   "metadata": {},
   "outputs": [],
   "source": [
    "import torch\n",
    "import torch.nn as nn\n",
    "from torch.optim import Adam\n",
    "from torch.optim.lr_scheduler import OneCycleLR\n",
    "from torch.amp import autocast, GradScaler #Package for mixed precision in cuda computations\n",
    "\n",
    "from typing import Dict\n",
    "from pathlib import Path\n",
    "import logging\n",
    "from sacrebleu.metrics import BLEU, CHRF, TER\n",
    "from tqdm import tqdm\n",
    "import wandb #Visualisations"
   ]
  },
  {
   "cell_type": "code",
   "execution_count": 10,
   "metadata": {},
   "outputs": [
    {
     "data": {
      "text/plain": [
       "'cpu'"
      ]
     },
     "execution_count": 10,
     "metadata": {},
     "output_type": "execute_result"
    }
   ],
   "source": [
    "d = torch.device(\"cuda\" if torch.cuda.is_available() else \"cpu\")\n",
    "d.type"
   ]
  },
  {
   "cell_type": "code",
   "execution_count": null,
   "metadata": {},
   "outputs": [],
   "source": [
    "class CustomLRScheduler:\n",
    "    def __init__(self, optimizer, d_model, warmup_steps):\n",
    "        self.optimizer = optimizer\n",
    "        self.d_model = d_model\n",
    "        self.warmup_steps = warmup_steps\n",
    "        self.step_num = 0\n",
    "\n",
    "    def step(self):\n",
    "        self.step_num += 1\n",
    "        lrate = (self.d_model ** -0.5) * min(\n",
    "            self.step_num ** -0.5, \n",
    "            self.step_num * (self.warmup_steps ** -1.5)     \n",
    "        )\n",
    "        for param_group in self.optimizer.param_groups:\n",
    "            param_group['lr'] = lrate\n",
    "\n",
    "class Trainer:\n",
    "    def __init__(self,model:nn.Module,train_loader:DataLoader,val_loader:DataLoader,tokenizer:GPT2Tokenizer,config:dict):\n",
    "        self.model = model\n",
    "        self.train_loader = train_loader\n",
    "        self.val_loader = val_loader\n",
    "        self.tokenizer = tokenizer\n",
    "        self.config = config\n",
    "\n",
    "        # Setup device\n",
    "        self.device = torch.device(\"cuda\" if torch.cuda.is_available() else \"cpu\")\n",
    "        self.model.to(self.device)\n",
    "\n",
    "        # Initialize optimizer\n",
    "        self.optimizer = Adam(\n",
    "            self.model.parameters(),\n",
    "            lr=config['learning_rate'],\n",
    "            weight_decay=config['weight_decay'],\n",
    "            betas=(0.9,0.98)\n",
    "        )\n",
    "\n",
    "        # # Define the learning rate scheduler\n",
    "        self.scheduler = CustomLRScheduler(self.optimizer,model_config['d_model'],train_config['warmup_steps'])\n",
    "\n",
    "        #Loss\n",
    "        self.loss_fn = nn.CrossEntropyLoss(ignore_index=model.pad_idx) \n",
    "\n",
    "        #Mixed precision\n",
    "        self.scaler = GradScaler()\n",
    "\n",
    "        #Create checkpoint directory\n",
    "        self.checkpoint_dir = Path(config['checkpoint_dir'])\n",
    "        self.checkpoint_dir.mkdir(exist_ok=True)\n",
    "\n",
    "        # Initialize logging ???\n",
    "        logging.basicConfig(level=logging.INFO)\n",
    "        self.logger = logging.getLogger(__name__)\n",
    "\n",
    "    def save_checkpoint(self, epoch: int, metrics: Dict[str, float]):\n",
    "        \"\"\"Save model checkpoint\"\"\"\n",
    "        checkpoint = {\n",
    "            'epoch': epoch,\n",
    "            'model_state_dict': self.model.state_dict(),\n",
    "            'optimizer_state_dict': self.optimizer.state_dict(),\n",
    "            'scheduler_state_dict': self.scheduler.state_dict(),\n",
    "            'metrics': metrics\n",
    "        }\n",
    "        \n",
    "        path = self.checkpoint_dir / f\"checkpoint_epoch_{epoch}.pt\"\n",
    "        torch.save(checkpoint, path)\n",
    "        self.logger.info(f\"Saved checkpoint to {path}\")\n",
    "\n",
    "    def train_epoch(self,epoch:int):\n",
    "        \"\"\"\n",
    "        Train for one epoch\n",
    "        \"\"\"\n",
    "        self.model.train() #Set to train\n",
    "        total_loss = 0\n",
    "        progress_bar = tqdm(self.train_loader,desc=f'Epoch {epoch}')\n",
    "\n",
    "        for batch_idx,batch in enumerate(progress_bar):\n",
    "            #Move batch to device\n",
    "            src_seq,tgt_seq = batch\n",
    "            src_seq,tgt_seq = src_seq.to(self.device),tgt_seq.to(self.device)\n",
    "\n",
    "            #Mixed precision training\n",
    "            with autocast(self.device.type):\n",
    "                outputs = self.model(src_seq,None) #logits of shape (batch_size,max_len,vocab_size)\n",
    "                loss = self.loss_fn(outputs.view(train_config['batch_size']*model_config['max_len'],-1).softmax(dim=-1),tgt_seq.flatten())\n",
    "\n",
    "            #Scale loss and compute gadients\n",
    "            self.scaler.scale(loss).backward()\n",
    "\n",
    "            #Gradient clipping\n",
    "            self.scaler.unscale_(self.optimizer)\n",
    "            torch.nn.utils.clip_grad_norm_(self.model.parameters(),1.0)\n",
    "\n",
    "            #Update weights\n",
    "            self.scaler.step(self.optimizer)\n",
    "            self.scaler.update()\n",
    "            self.scheduler.step()\n",
    "\n",
    "            #Zero gradients\n",
    "            self.optimizer.zero_grad()\n",
    "\n",
    "            #update total loss\n",
    "            total_loss+=loss.item()\n",
    "\n",
    "            # Update progress bar\n",
    "            progress_bar.set_postfix({\n",
    "                'loss': f\"{total_loss / (batch_idx + 1):.4f}\",\n",
    "                'lr': f\"{self.scheduler.optimizer.param_groups[0]['lr']:.2e}\"\n",
    "            })\n",
    "\n",
    "            #Log to wandb\n",
    "            if wandb.run is not None:\n",
    "                wandb.log({\n",
    "                    'train_loss':loss.item(),\n",
    "                    'learning_rate':self.scheduler.optimizer.param_groups[0]['lr'],\n",
    "                })\n",
    "\n",
    "        # Compute epoch averages\n",
    "        num_batches = len(self.train_loader)\n",
    "        epoch_loss = total_loss / num_batches\n",
    "\n",
    "        return epoch_loss,None\n",
    "    \n",
    "    def train(self):\n",
    "        \"\"\"Full training loop\"\"\"\n",
    "        for epoch in range(train_config['num_epochs']):\n",
    "            self.logger.info(f\"\\nStarting epoch {epoch + 1}\")\n",
    "            \n",
    "            # Training phase\n",
    "            train_loss, train_metrics = self.train_epoch(epoch)\n",
    "            \n",
    "            # Validation phase\n",
    "            #val_loss, val_metrics = self.validate()\n",
    "            \n",
    "            # Log metrics\n",
    "            metrics = {\n",
    "                'epoch': epoch + 1,\n",
    "                'train_loss': train_loss,\n",
    "                #'val_loss': val_loss,\n",
    "                #**{f\"train_{k}\": v for k, v in train_metrics.items()},\n",
    "                #**{f\"val_{k}\": v for k, v in val_metrics.items()}\n",
    "            }\n",
    "            \n",
    "            self.logger.info(\n",
    "                f\"Epoch {epoch + 1} - \"\n",
    "                f\"Train loss: {train_loss:.4f} - \"\n",
    "                #f\"Val loss: {val_loss:.4f} - \"\n",
    "               # f\"Val BLEU: {val_metrics['bleu']:.2f}\"\n",
    "            )\n",
    "            \n",
    "            if wandb.run is not None:\n",
    "                wandb.log(metrics)\n",
    "            \n",
    "            # Save checkpoint if best so far\n",
    "            #if val_metrics['bleu'] > best_bleu:\n",
    "                #best_bleu = val_metrics['bleu']\n",
    "                #self.save_checkpoint(epoch, metrics)\n"
   ]
  },
  {
   "cell_type": "code",
   "execution_count": 12,
   "metadata": {},
   "outputs": [
    {
     "name": "stderr",
     "output_type": "stream",
     "text": [
      "/home/hp/anaconda3/envs/GPT/lib/python3.12/site-packages/torch/amp/grad_scaler.py:132: UserWarning: torch.cuda.amp.GradScaler is enabled, but CUDA is not available.  Disabling.\n",
      "  warnings.warn(\n"
     ]
    }
   ],
   "source": [
    "trainer = Trainer(model,train_loader,val_loader,tokenizer,train_config)"
   ]
  },
  {
   "cell_type": "code",
   "execution_count": 13,
   "metadata": {},
   "outputs": [
    {
     "name": "stderr",
     "output_type": "stream",
     "text": [
      "INFO:__main__:\n",
      "Starting epoch 1\n",
      "Epoch 0:   0%|          | 0/16 [00:00<?, ?it/s]/tmp/ipykernel_4555/2966730660.py:33: UserWarning: To copy construct from a tensor, it is recommended to use sourceTensor.clone().detach() or sourceTensor.clone().detach().requires_grad_(True), rather than torch.tensor(sourceTensor).\n",
      "  sequence = torch.tensor(sequence, dtype=torch.long)\n",
      "Epoch 0: 100%|██████████| 16/16 [00:12<00:00,  1.26it/s, loss=10.9940, lr=6.32e-05]\n",
      "INFO:__main__:Epoch 1 - Train loss: 10.9940 - \n",
      "INFO:__main__:\n",
      "Starting epoch 2\n",
      "Epoch 1: 100%|██████████| 16/16 [00:11<00:00,  1.35it/s, loss=10.9940, lr=1.26e-04]\n",
      "INFO:__main__:Epoch 2 - Train loss: 10.9940 - \n",
      "INFO:__main__:\n",
      "Starting epoch 3\n",
      "Epoch 2:  50%|█████     | 8/16 [00:06<00:06,  1.19it/s, loss=10.9940, lr=1.58e-04]\n"
     ]
    },
    {
     "ename": "KeyboardInterrupt",
     "evalue": "",
     "output_type": "error",
     "traceback": [
      "\u001b[0;31m---------------------------------------------------------------------------\u001b[0m",
      "\u001b[0;31mKeyboardInterrupt\u001b[0m                         Traceback (most recent call last)",
      "Cell \u001b[0;32mIn[13], line 1\u001b[0m\n\u001b[0;32m----> 1\u001b[0m \u001b[43mtrainer\u001b[49m\u001b[38;5;241;43m.\u001b[39;49m\u001b[43mtrain\u001b[49m\u001b[43m(\u001b[49m\u001b[43m)\u001b[49m\n",
      "Cell \u001b[0;32mIn[11], line 129\u001b[0m, in \u001b[0;36mTrainer.train\u001b[0;34m(self)\u001b[0m\n\u001b[1;32m    126\u001b[0m \u001b[38;5;28mself\u001b[39m\u001b[38;5;241m.\u001b[39mlogger\u001b[38;5;241m.\u001b[39minfo(\u001b[38;5;124mf\u001b[39m\u001b[38;5;124m\"\u001b[39m\u001b[38;5;130;01m\\n\u001b[39;00m\u001b[38;5;124mStarting epoch \u001b[39m\u001b[38;5;132;01m{\u001b[39;00mepoch\u001b[38;5;250m \u001b[39m\u001b[38;5;241m+\u001b[39m\u001b[38;5;250m \u001b[39m\u001b[38;5;241m1\u001b[39m\u001b[38;5;132;01m}\u001b[39;00m\u001b[38;5;124m\"\u001b[39m)\n\u001b[1;32m    128\u001b[0m \u001b[38;5;66;03m# Training phase\u001b[39;00m\n\u001b[0;32m--> 129\u001b[0m train_loss, train_metrics \u001b[38;5;241m=\u001b[39m \u001b[38;5;28;43mself\u001b[39;49m\u001b[38;5;241;43m.\u001b[39;49m\u001b[43mtrain_epoch\u001b[49m\u001b[43m(\u001b[49m\u001b[43mepoch\u001b[49m\u001b[43m)\u001b[49m\n\u001b[1;32m    131\u001b[0m \u001b[38;5;66;03m# Validation phase\u001b[39;00m\n\u001b[1;32m    132\u001b[0m \u001b[38;5;66;03m#val_loss, val_metrics = self.validate()\u001b[39;00m\n\u001b[1;32m    133\u001b[0m \n\u001b[1;32m    134\u001b[0m \u001b[38;5;66;03m# Log metrics\u001b[39;00m\n\u001b[1;32m    135\u001b[0m metrics \u001b[38;5;241m=\u001b[39m {\n\u001b[1;32m    136\u001b[0m     \u001b[38;5;124m'\u001b[39m\u001b[38;5;124mepoch\u001b[39m\u001b[38;5;124m'\u001b[39m: epoch \u001b[38;5;241m+\u001b[39m \u001b[38;5;241m1\u001b[39m,\n\u001b[1;32m    137\u001b[0m     \u001b[38;5;124m'\u001b[39m\u001b[38;5;124mtrain_loss\u001b[39m\u001b[38;5;124m'\u001b[39m: train_loss,\n\u001b[0;32m   (...)\u001b[0m\n\u001b[1;32m    140\u001b[0m     \u001b[38;5;66;03m#**{f\"val_{k}\": v for k, v in val_metrics.items()}\u001b[39;00m\n\u001b[1;32m    141\u001b[0m }\n",
      "Cell \u001b[0;32mIn[11], line 83\u001b[0m, in \u001b[0;36mTrainer.train_epoch\u001b[0;34m(self, epoch)\u001b[0m\n\u001b[1;32m     81\u001b[0m \u001b[38;5;66;03m#Mixed precision training\u001b[39;00m\n\u001b[1;32m     82\u001b[0m \u001b[38;5;28;01mwith\u001b[39;00m autocast(\u001b[38;5;28mself\u001b[39m\u001b[38;5;241m.\u001b[39mdevice\u001b[38;5;241m.\u001b[39mtype):\n\u001b[0;32m---> 83\u001b[0m     outputs \u001b[38;5;241m=\u001b[39m \u001b[38;5;28;43mself\u001b[39;49m\u001b[38;5;241;43m.\u001b[39;49m\u001b[43mmodel\u001b[49m\u001b[43m(\u001b[49m\u001b[43msrc_seq\u001b[49m\u001b[43m,\u001b[49m\u001b[38;5;28;43;01mNone\u001b[39;49;00m\u001b[43m)\u001b[49m \u001b[38;5;66;03m#logits of shape (batch_size,max_len,vocab_size)\u001b[39;00m\n\u001b[1;32m     84\u001b[0m     loss \u001b[38;5;241m=\u001b[39m \u001b[38;5;28mself\u001b[39m\u001b[38;5;241m.\u001b[39mloss_fn(outputs\u001b[38;5;241m.\u001b[39mview(data_config[\u001b[38;5;124m'\u001b[39m\u001b[38;5;124mbatch_size\u001b[39m\u001b[38;5;124m'\u001b[39m]\u001b[38;5;241m*\u001b[39mmodel_config[\u001b[38;5;124m'\u001b[39m\u001b[38;5;124mmax_len\u001b[39m\u001b[38;5;124m'\u001b[39m],\u001b[38;5;241m-\u001b[39m\u001b[38;5;241m1\u001b[39m)\u001b[38;5;241m.\u001b[39msoftmax(dim\u001b[38;5;241m=\u001b[39m\u001b[38;5;241m-\u001b[39m\u001b[38;5;241m1\u001b[39m),tgt_seq\u001b[38;5;241m.\u001b[39mflatten())\n\u001b[1;32m     86\u001b[0m \u001b[38;5;66;03m#Scale loss and compute gadients\u001b[39;00m\n",
      "File \u001b[0;32m~/anaconda3/envs/GPT/lib/python3.12/site-packages/torch/nn/modules/module.py:1736\u001b[0m, in \u001b[0;36mModule._wrapped_call_impl\u001b[0;34m(self, *args, **kwargs)\u001b[0m\n\u001b[1;32m   1734\u001b[0m     \u001b[38;5;28;01mreturn\u001b[39;00m \u001b[38;5;28mself\u001b[39m\u001b[38;5;241m.\u001b[39m_compiled_call_impl(\u001b[38;5;241m*\u001b[39margs, \u001b[38;5;241m*\u001b[39m\u001b[38;5;241m*\u001b[39mkwargs)  \u001b[38;5;66;03m# type: ignore[misc]\u001b[39;00m\n\u001b[1;32m   1735\u001b[0m \u001b[38;5;28;01melse\u001b[39;00m:\n\u001b[0;32m-> 1736\u001b[0m     \u001b[38;5;28;01mreturn\u001b[39;00m \u001b[38;5;28;43mself\u001b[39;49m\u001b[38;5;241;43m.\u001b[39;49m\u001b[43m_call_impl\u001b[49m\u001b[43m(\u001b[49m\u001b[38;5;241;43m*\u001b[39;49m\u001b[43margs\u001b[49m\u001b[43m,\u001b[49m\u001b[43m \u001b[49m\u001b[38;5;241;43m*\u001b[39;49m\u001b[38;5;241;43m*\u001b[39;49m\u001b[43mkwargs\u001b[49m\u001b[43m)\u001b[49m\n",
      "File \u001b[0;32m~/anaconda3/envs/GPT/lib/python3.12/site-packages/torch/nn/modules/module.py:1747\u001b[0m, in \u001b[0;36mModule._call_impl\u001b[0;34m(self, *args, **kwargs)\u001b[0m\n\u001b[1;32m   1742\u001b[0m \u001b[38;5;66;03m# If we don't have any hooks, we want to skip the rest of the logic in\u001b[39;00m\n\u001b[1;32m   1743\u001b[0m \u001b[38;5;66;03m# this function, and just call forward.\u001b[39;00m\n\u001b[1;32m   1744\u001b[0m \u001b[38;5;28;01mif\u001b[39;00m \u001b[38;5;129;01mnot\u001b[39;00m (\u001b[38;5;28mself\u001b[39m\u001b[38;5;241m.\u001b[39m_backward_hooks \u001b[38;5;129;01mor\u001b[39;00m \u001b[38;5;28mself\u001b[39m\u001b[38;5;241m.\u001b[39m_backward_pre_hooks \u001b[38;5;129;01mor\u001b[39;00m \u001b[38;5;28mself\u001b[39m\u001b[38;5;241m.\u001b[39m_forward_hooks \u001b[38;5;129;01mor\u001b[39;00m \u001b[38;5;28mself\u001b[39m\u001b[38;5;241m.\u001b[39m_forward_pre_hooks\n\u001b[1;32m   1745\u001b[0m         \u001b[38;5;129;01mor\u001b[39;00m _global_backward_pre_hooks \u001b[38;5;129;01mor\u001b[39;00m _global_backward_hooks\n\u001b[1;32m   1746\u001b[0m         \u001b[38;5;129;01mor\u001b[39;00m _global_forward_hooks \u001b[38;5;129;01mor\u001b[39;00m _global_forward_pre_hooks):\n\u001b[0;32m-> 1747\u001b[0m     \u001b[38;5;28;01mreturn\u001b[39;00m \u001b[43mforward_call\u001b[49m\u001b[43m(\u001b[49m\u001b[38;5;241;43m*\u001b[39;49m\u001b[43margs\u001b[49m\u001b[43m,\u001b[49m\u001b[43m \u001b[49m\u001b[38;5;241;43m*\u001b[39;49m\u001b[38;5;241;43m*\u001b[39;49m\u001b[43mkwargs\u001b[49m\u001b[43m)\u001b[49m\n\u001b[1;32m   1749\u001b[0m result \u001b[38;5;241m=\u001b[39m \u001b[38;5;28;01mNone\u001b[39;00m\n\u001b[1;32m   1750\u001b[0m called_always_called_hooks \u001b[38;5;241m=\u001b[39m \u001b[38;5;28mset\u001b[39m()\n",
      "File \u001b[0;32m~/Adnane/LLMs/Attention/transformer/model/transformer_decoder.py:33\u001b[0m, in \u001b[0;36mTransformerDecoder.forward\u001b[0;34m(self, trg_seq, trg_mask)\u001b[0m\n\u001b[1;32m     30\u001b[0m out_dec \u001b[38;5;241m=\u001b[39m \u001b[38;5;28mself\u001b[39m\u001b[38;5;241m.\u001b[39mdecoder\u001b[38;5;241m.\u001b[39mforward(trg_seq,trg_mask)[\u001b[38;5;241m0\u001b[39m]\n\u001b[1;32m     32\u001b[0m \u001b[38;5;66;03m#Linear to get the logits\u001b[39;00m\n\u001b[0;32m---> 33\u001b[0m seq_logits \u001b[38;5;241m=\u001b[39m \u001b[38;5;28;43mself\u001b[39;49m\u001b[38;5;241;43m.\u001b[39;49m\u001b[43mfn\u001b[49m\u001b[43m(\u001b[49m\u001b[43mout_dec\u001b[49m\u001b[43m)\u001b[49m \u001b[38;5;66;03m#(batch_size,src_lengh,vocab_size)\u001b[39;00m\n\u001b[1;32m     35\u001b[0m \u001b[38;5;28;01mreturn\u001b[39;00m seq_logits\n",
      "File \u001b[0;32m~/anaconda3/envs/GPT/lib/python3.12/site-packages/torch/nn/modules/module.py:1736\u001b[0m, in \u001b[0;36mModule._wrapped_call_impl\u001b[0;34m(self, *args, **kwargs)\u001b[0m\n\u001b[1;32m   1734\u001b[0m     \u001b[38;5;28;01mreturn\u001b[39;00m \u001b[38;5;28mself\u001b[39m\u001b[38;5;241m.\u001b[39m_compiled_call_impl(\u001b[38;5;241m*\u001b[39margs, \u001b[38;5;241m*\u001b[39m\u001b[38;5;241m*\u001b[39mkwargs)  \u001b[38;5;66;03m# type: ignore[misc]\u001b[39;00m\n\u001b[1;32m   1735\u001b[0m \u001b[38;5;28;01melse\u001b[39;00m:\n\u001b[0;32m-> 1736\u001b[0m     \u001b[38;5;28;01mreturn\u001b[39;00m \u001b[38;5;28;43mself\u001b[39;49m\u001b[38;5;241;43m.\u001b[39;49m\u001b[43m_call_impl\u001b[49m\u001b[43m(\u001b[49m\u001b[38;5;241;43m*\u001b[39;49m\u001b[43margs\u001b[49m\u001b[43m,\u001b[49m\u001b[43m \u001b[49m\u001b[38;5;241;43m*\u001b[39;49m\u001b[38;5;241;43m*\u001b[39;49m\u001b[43mkwargs\u001b[49m\u001b[43m)\u001b[49m\n",
      "File \u001b[0;32m~/anaconda3/envs/GPT/lib/python3.12/site-packages/torch/nn/modules/module.py:1747\u001b[0m, in \u001b[0;36mModule._call_impl\u001b[0;34m(self, *args, **kwargs)\u001b[0m\n\u001b[1;32m   1742\u001b[0m \u001b[38;5;66;03m# If we don't have any hooks, we want to skip the rest of the logic in\u001b[39;00m\n\u001b[1;32m   1743\u001b[0m \u001b[38;5;66;03m# this function, and just call forward.\u001b[39;00m\n\u001b[1;32m   1744\u001b[0m \u001b[38;5;28;01mif\u001b[39;00m \u001b[38;5;129;01mnot\u001b[39;00m (\u001b[38;5;28mself\u001b[39m\u001b[38;5;241m.\u001b[39m_backward_hooks \u001b[38;5;129;01mor\u001b[39;00m \u001b[38;5;28mself\u001b[39m\u001b[38;5;241m.\u001b[39m_backward_pre_hooks \u001b[38;5;129;01mor\u001b[39;00m \u001b[38;5;28mself\u001b[39m\u001b[38;5;241m.\u001b[39m_forward_hooks \u001b[38;5;129;01mor\u001b[39;00m \u001b[38;5;28mself\u001b[39m\u001b[38;5;241m.\u001b[39m_forward_pre_hooks\n\u001b[1;32m   1745\u001b[0m         \u001b[38;5;129;01mor\u001b[39;00m _global_backward_pre_hooks \u001b[38;5;129;01mor\u001b[39;00m _global_backward_hooks\n\u001b[1;32m   1746\u001b[0m         \u001b[38;5;129;01mor\u001b[39;00m _global_forward_hooks \u001b[38;5;129;01mor\u001b[39;00m _global_forward_pre_hooks):\n\u001b[0;32m-> 1747\u001b[0m     \u001b[38;5;28;01mreturn\u001b[39;00m \u001b[43mforward_call\u001b[49m\u001b[43m(\u001b[49m\u001b[38;5;241;43m*\u001b[39;49m\u001b[43margs\u001b[49m\u001b[43m,\u001b[49m\u001b[43m \u001b[49m\u001b[38;5;241;43m*\u001b[39;49m\u001b[38;5;241;43m*\u001b[39;49m\u001b[43mkwargs\u001b[49m\u001b[43m)\u001b[49m\n\u001b[1;32m   1749\u001b[0m result \u001b[38;5;241m=\u001b[39m \u001b[38;5;28;01mNone\u001b[39;00m\n\u001b[1;32m   1750\u001b[0m called_always_called_hooks \u001b[38;5;241m=\u001b[39m \u001b[38;5;28mset\u001b[39m()\n",
      "File \u001b[0;32m~/anaconda3/envs/GPT/lib/python3.12/site-packages/torch/nn/modules/linear.py:125\u001b[0m, in \u001b[0;36mLinear.forward\u001b[0;34m(self, input)\u001b[0m\n\u001b[1;32m    124\u001b[0m \u001b[38;5;28;01mdef\u001b[39;00m \u001b[38;5;21mforward\u001b[39m(\u001b[38;5;28mself\u001b[39m, \u001b[38;5;28minput\u001b[39m: Tensor) \u001b[38;5;241m-\u001b[39m\u001b[38;5;241m>\u001b[39m Tensor:\n\u001b[0;32m--> 125\u001b[0m     \u001b[38;5;28;01mreturn\u001b[39;00m \u001b[43mF\u001b[49m\u001b[38;5;241;43m.\u001b[39;49m\u001b[43mlinear\u001b[49m\u001b[43m(\u001b[49m\u001b[38;5;28;43minput\u001b[39;49m\u001b[43m,\u001b[49m\u001b[43m \u001b[49m\u001b[38;5;28;43mself\u001b[39;49m\u001b[38;5;241;43m.\u001b[39;49m\u001b[43mweight\u001b[49m\u001b[43m,\u001b[49m\u001b[43m \u001b[49m\u001b[38;5;28;43mself\u001b[39;49m\u001b[38;5;241;43m.\u001b[39;49m\u001b[43mbias\u001b[49m\u001b[43m)\u001b[49m\n",
      "\u001b[0;31mKeyboardInterrupt\u001b[0m: "
     ]
    }
   ],
   "source": [
    "trainer.train()"
   ]
  },
  {
   "cell_type": "code",
   "execution_count": null,
   "metadata": {},
   "outputs": [],
   "source": [
    "loss_fn = nn.CrossEntropyLoss()\n",
    "\n",
    "for epoch in range(50):\n",
    "    progress_bar = tqdm(val_loader,desc=f'Epoch {epoch}')\n",
    "    total_loss = 0\n",
    "    for batch_idx,batch in enumerate(progress_bar):\n",
    "        #Move batch to device\n",
    "        src_seq,tgt_seq = batch\n",
    "        src_seq,tgt_seq = src_seq.to(d),tgt_seq.to(d)\n",
    "        print(src_seq.shape,tgt_seq.shape)\n",
    "\n",
    "        #Mixed precision training\n",
    "        with autocast(d.type):\n",
    "            outputs = model(src_seq,None) #logits of shape (batch_size,max_len,vocab_size)\n",
    "            loss = loss_fn(outputs.view(train_config['batch_size']*model_config['max_len'],-1).softmax(dim=-1),tgt_seq.flatten())\n",
    "\n",
    "        #update total loss\n",
    "        total_loss+=loss.item()\n",
    "\n",
    "        # Update progress bar\n",
    "        progress_bar.set_postfix({\n",
    "            'loss': f\"{total_loss / (batch_idx + 1):.4f}\"\n",
    "        })\n",
    "\n",
    "\n"
   ]
  },
  {
   "cell_type": "code",
   "execution_count": null,
   "metadata": {},
   "outputs": [
    {
     "name": "stdout",
     "output_type": "stream",
     "text": [
      "torch.Size([64, 32])\n"
     ]
    },
    {
     "name": "stderr",
     "output_type": "stream",
     "text": [
      "/tmp/ipykernel_250165/2304055213.py:33: UserWarning: To copy construct from a tensor, it is recommended to use sourceTensor.clone().detach() or sourceTensor.clone().detach().requires_grad_(True), rather than torch.tensor(sourceTensor).\n",
      "  return torch.tensor(sequence, dtype=torch.long)\n"
     ]
    }
   ],
   "source": [
    "for batch in train_loader:\n",
    "    print(batch.shape)\n",
    "    break"
   ]
  }
 ],
 "metadata": {
  "kernelspec": {
   "display_name": "GPT",
   "language": "python",
   "name": "python3"
  },
  "language_info": {
   "codemirror_mode": {
    "name": "ipython",
    "version": 3
   },
   "file_extension": ".py",
   "mimetype": "text/x-python",
   "name": "python",
   "nbconvert_exporter": "python",
   "pygments_lexer": "ipython3",
   "version": "3.12.3"
  }
 },
 "nbformat": 4,
 "nbformat_minor": 2
}
